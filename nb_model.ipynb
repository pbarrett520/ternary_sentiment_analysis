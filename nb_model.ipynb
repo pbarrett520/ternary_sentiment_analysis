{
 "cells": [
  {
   "cell_type": "code",
   "execution_count": 214,
   "metadata": {},
   "outputs": [],
   "source": [
    "from sklearn.feature_extraction.text import TfidfVectorizer\n",
    "from sklearn.preprocessing import FunctionTransformer\n",
    "from sklearn.model_selection import train_test_split\n",
    "from sklearn.naive_bayes import MultinomialNB\n",
    "from sklearn.pipeline import Pipeline\n",
    "\n",
    "from nltk.stem import WordNetLemmatizer\n",
    "from nltk.tokenize import TweetTokenizer\n",
    "from nltk.tag import pos_tag # need to open Python interpreter, run nltk.download('averaged_perceptron_tagger') to get tag set\n",
    "import pandas as pd\n",
    "from tqdm import tqdm\n",
    "from numpy import mean"
   ]
  },
  {
   "cell_type": "code",
   "execution_count": 215,
   "metadata": {},
   "outputs": [
    {
     "data": {
      "text/html": [
       "<div>\n",
       "<style scoped>\n",
       "    .dataframe tbody tr th:only-of-type {\n",
       "        vertical-align: middle;\n",
       "    }\n",
       "\n",
       "    .dataframe tbody tr th {\n",
       "        vertical-align: top;\n",
       "    }\n",
       "\n",
       "    .dataframe thead th {\n",
       "        text-align: right;\n",
       "    }\n",
       "</style>\n",
       "<table border=\"1\" class=\"dataframe\">\n",
       "  <thead>\n",
       "    <tr style=\"text-align: right;\">\n",
       "      <th></th>\n",
       "      <th>ID</th>\n",
       "      <th>TEXT</th>\n",
       "      <th>LABEL</th>\n",
       "    </tr>\n",
       "  </thead>\n",
       "  <tbody>\n",
       "    <tr>\n",
       "      <th>0</th>\n",
       "      <td>7850790573542594519</td>\n",
       "      <td>If you love good films don't ever buy this pei...</td>\n",
       "      <td>2</td>\n",
       "    </tr>\n",
       "    <tr>\n",
       "      <th>1</th>\n",
       "      <td>9392069522632994700</td>\n",
       "      <td>The 33 percent of the nations nitwits that sti...</td>\n",
       "      <td>2</td>\n",
       "    </tr>\n",
       "    <tr>\n",
       "      <th>2</th>\n",
       "      <td>5083704536542443514</td>\n",
       "      <td>I saw Anatomy years ago -- dubbed at a friends...</td>\n",
       "      <td>1</td>\n",
       "    </tr>\n",
       "    <tr>\n",
       "      <th>3</th>\n",
       "      <td>12418349755186772171</td>\n",
       "      <td>Dark Remains is a home run plain and simple. T...</td>\n",
       "      <td>1</td>\n",
       "    </tr>\n",
       "    <tr>\n",
       "      <th>4</th>\n",
       "      <td>12144957944004619479</td>\n",
       "      <td>Feh. This movie started out in an interesting ...</td>\n",
       "      <td>2</td>\n",
       "    </tr>\n",
       "  </tbody>\n",
       "</table>\n",
       "</div>"
      ],
      "text/plain": [
       "                     ID                                               TEXT  \\\n",
       "0   7850790573542594519  If you love good films don't ever buy this pei...   \n",
       "1   9392069522632994700  The 33 percent of the nations nitwits that sti...   \n",
       "2   5083704536542443514  I saw Anatomy years ago -- dubbed at a friends...   \n",
       "3  12418349755186772171  Dark Remains is a home run plain and simple. T...   \n",
       "4  12144957944004619479  Feh. This movie started out in an interesting ...   \n",
       "\n",
       "   LABEL  \n",
       "0      2  \n",
       "1      2  \n",
       "2      1  \n",
       "3      1  \n",
       "4      2  "
      ]
     },
     "execution_count": 215,
     "metadata": {},
     "output_type": "execute_result"
    }
   ],
   "source": [
    "df = pd.read_csv('train.csv')\n",
    "df.head()"
   ]
  },
  {
   "cell_type": "code",
   "execution_count": 216,
   "metadata": {},
   "outputs": [
    {
     "data": {
      "text/plain": [
       "Counter({2: 18970, 1: 19276, 0: 32071})"
      ]
     },
     "execution_count": 216,
     "metadata": {},
     "output_type": "execute_result"
    }
   ],
   "source": [
    "from collections import Counter\n",
    "Counter(df['LABEL']) # Sentiment data is balanced, but lots of non-reviews here"
   ]
  },
  {
   "cell_type": "code",
   "execution_count": 217,
   "metadata": {},
   "outputs": [],
   "source": [
    "\n",
    "def data_cleaning(text_list):\n",
    "    # use lemmatizer to convert a word to its base form.\n",
    "    # this will reduce our vocabulary and make our vectors denser\n",
    "    lemmatizer = WordNetLemmatizer()\n",
    "\n",
    "    # use tokenizer to split a string of text into tokens.\n",
    "    # The Tweet tokenizer is built for a similar domain, and is is better than just splitting the text\n",
    "    tokenizer = TweetTokenizer()\n",
    "\n",
    "    process_texts=[]\n",
    "    for text in tqdm(text_list):\n",
    "        # case may be a usefule feature for datsets with with lots of ANGRY ALL CAPS, but I don't think that\n",
    "        # outweighs normal use of case in this sataset. Better to normalize.\n",
    "        tokens = tokenizer.tokenize(text.lower()) \n",
    "        lemmatized_tokens=[]\n",
    "        \n",
    "        pos_tags = pos_tag(tokens)\n",
    "        for each_token, tag in pos_tags: # Normalize tags to feed to lemmatizer\n",
    "            if tag.startswith('NN'):\n",
    "                pos = 'n'\n",
    "            elif tag.startswith('VB'):\n",
    "                pos = 'v'\n",
    "            elif tag.startswith('RB'):\n",
    "                pos ='r'\n",
    "            else:\n",
    "                pos = 'a' # I don't think the distinction between satellite adjectives and adjectives is very meaningful here, so let's send them all to 'a'\n",
    "            lemmatized_token = lemmatizer.lemmatize(each_token, pos)\n",
    "            lemmatized_tokens.append(lemmatized_token)\n",
    "\n",
    "        process_texts.append(' '.join(lemmatized_tokens))\n",
    "    return process_texts\n",
    "\n",
    "stops = ['the', 'to', 'and', 'a', 'in', 'it', 'is', 'I', 'that','this', 'had', 'on', 'for', 'were', 'was', 'are','he','she','it','they','them','his','her'\n",
    "        'their','they''we','us','our','has','have','be','mine','of','who','whom','will'] # NLTK list too expansive, decresed performance. Made a custom list.\n",
    "estimators=[('cleaner', FunctionTransformer(data_cleaning)),\n",
    "            ('vectorizer', TfidfVectorizer(ngram_range=(1,3),stop_words=stops))] # tf-idf will add some nuance to the model\n",
    "preprocessing_pipeline = Pipeline(estimators)"
   ]
  },
  {
   "cell_type": "code",
   "execution_count": 218,
   "metadata": {},
   "outputs": [
    {
     "name": "stderr",
     "output_type": "stream",
     "text": [
      "100%|██████████| 63285/63285 [03:47<00:00, 277.57it/s]\n"
     ]
    }
   ],
   "source": [
    "# Break data down into a training set and a validation set\n",
    "x_train, x_valid, y_train, y_valid= train_test_split(df['TEXT'].astype(str), df['LABEL'], test_size=0.1, random_state=7)\n",
    "x_train=preprocessing_pipeline.fit_transform(x_train)"
   ]
  },
  {
   "cell_type": "code",
   "execution_count": 219,
   "metadata": {},
   "outputs": [
    {
     "name": "stdout",
     "output_type": "stream",
     "text": [
      "fitting model\n"
     ]
    },
    {
     "name": "stderr",
     "output_type": "stream",
     "text": [
      "100%|██████████| 7032/7032 [00:24<00:00, 283.69it/s]\n"
     ]
    }
   ],
   "source": [
    "# Create a Naive Bayes model and fit training data\n",
    "print('fitting model')\n",
    "model = MultinomialNB()\n",
    "model.fit(x_train, y_train)\n",
    "x_valid=preprocessing_pipeline.transform(x_valid)"
   ]
  },
  {
   "cell_type": "code",
   "execution_count": 220,
   "metadata": {},
   "outputs": [
    {
     "name": "stdout",
     "output_type": "stream",
     "text": [
      "Test Score: 0.906712172923777\n"
     ]
    }
   ],
   "source": [
    "# Evaluate model - mean accuracy\n",
    "print(f'Test Score: {model.score(x_valid, y_valid)}')"
   ]
  },
  {
   "cell_type": "code",
   "execution_count": 223,
   "metadata": {},
   "outputs": [],
   "source": [
    "# put training and validation sets back together to pass to model\n",
    "import scipy.sparse as sp\n",
    "x = sp.vstack((x_train, x_valid), format='csr')\n",
    "y = pd.concat([y_train, y_valid])"
   ]
  },
  {
   "cell_type": "code",
   "execution_count": 224,
   "metadata": {},
   "outputs": [
    {
     "data": {
      "text/html": [
       "<style>#sk-container-id-11 {color: black;background-color: white;}#sk-container-id-11 pre{padding: 0;}#sk-container-id-11 div.sk-toggleable {background-color: white;}#sk-container-id-11 label.sk-toggleable__label {cursor: pointer;display: block;width: 100%;margin-bottom: 0;padding: 0.3em;box-sizing: border-box;text-align: center;}#sk-container-id-11 label.sk-toggleable__label-arrow:before {content: \"▸\";float: left;margin-right: 0.25em;color: #696969;}#sk-container-id-11 label.sk-toggleable__label-arrow:hover:before {color: black;}#sk-container-id-11 div.sk-estimator:hover label.sk-toggleable__label-arrow:before {color: black;}#sk-container-id-11 div.sk-toggleable__content {max-height: 0;max-width: 0;overflow: hidden;text-align: left;background-color: #f0f8ff;}#sk-container-id-11 div.sk-toggleable__content pre {margin: 0.2em;color: black;border-radius: 0.25em;background-color: #f0f8ff;}#sk-container-id-11 input.sk-toggleable__control:checked~div.sk-toggleable__content {max-height: 200px;max-width: 100%;overflow: auto;}#sk-container-id-11 input.sk-toggleable__control:checked~label.sk-toggleable__label-arrow:before {content: \"▾\";}#sk-container-id-11 div.sk-estimator input.sk-toggleable__control:checked~label.sk-toggleable__label {background-color: #d4ebff;}#sk-container-id-11 div.sk-label input.sk-toggleable__control:checked~label.sk-toggleable__label {background-color: #d4ebff;}#sk-container-id-11 input.sk-hidden--visually {border: 0;clip: rect(1px 1px 1px 1px);clip: rect(1px, 1px, 1px, 1px);height: 1px;margin: -1px;overflow: hidden;padding: 0;position: absolute;width: 1px;}#sk-container-id-11 div.sk-estimator {font-family: monospace;background-color: #f0f8ff;border: 1px dotted black;border-radius: 0.25em;box-sizing: border-box;margin-bottom: 0.5em;}#sk-container-id-11 div.sk-estimator:hover {background-color: #d4ebff;}#sk-container-id-11 div.sk-parallel-item::after {content: \"\";width: 100%;border-bottom: 1px solid gray;flex-grow: 1;}#sk-container-id-11 div.sk-label:hover label.sk-toggleable__label {background-color: #d4ebff;}#sk-container-id-11 div.sk-serial::before {content: \"\";position: absolute;border-left: 1px solid gray;box-sizing: border-box;top: 0;bottom: 0;left: 50%;z-index: 0;}#sk-container-id-11 div.sk-serial {display: flex;flex-direction: column;align-items: center;background-color: white;padding-right: 0.2em;padding-left: 0.2em;position: relative;}#sk-container-id-11 div.sk-item {position: relative;z-index: 1;}#sk-container-id-11 div.sk-parallel {display: flex;align-items: stretch;justify-content: center;background-color: white;position: relative;}#sk-container-id-11 div.sk-item::before, #sk-container-id-11 div.sk-parallel-item::before {content: \"\";position: absolute;border-left: 1px solid gray;box-sizing: border-box;top: 0;bottom: 0;left: 50%;z-index: -1;}#sk-container-id-11 div.sk-parallel-item {display: flex;flex-direction: column;z-index: 1;position: relative;background-color: white;}#sk-container-id-11 div.sk-parallel-item:first-child::after {align-self: flex-end;width: 50%;}#sk-container-id-11 div.sk-parallel-item:last-child::after {align-self: flex-start;width: 50%;}#sk-container-id-11 div.sk-parallel-item:only-child::after {width: 0;}#sk-container-id-11 div.sk-dashed-wrapped {border: 1px dashed gray;margin: 0 0.4em 0.5em 0.4em;box-sizing: border-box;padding-bottom: 0.4em;background-color: white;}#sk-container-id-11 div.sk-label label {font-family: monospace;font-weight: bold;display: inline-block;line-height: 1.2em;}#sk-container-id-11 div.sk-label-container {text-align: center;}#sk-container-id-11 div.sk-container {/* jupyter's `normalize.less` sets `[hidden] { display: none; }` but bootstrap.min.css set `[hidden] { display: none !important; }` so we also need the `!important` here to be able to override the default hidden behavior on the sphinx rendered scikit-learn.org. See: https://github.com/scikit-learn/scikit-learn/issues/21755 */display: inline-block !important;position: relative;}#sk-container-id-11 div.sk-text-repr-fallback {display: none;}</style><div id=\"sk-container-id-11\" class=\"sk-top-container\"><div class=\"sk-text-repr-fallback\"><pre>MultinomialNB()</pre><b>In a Jupyter environment, please rerun this cell to show the HTML representation or trust the notebook. <br />On GitHub, the HTML representation is unable to render, please try loading this page with nbviewer.org.</b></div><div class=\"sk-container\" hidden><div class=\"sk-item\"><div class=\"sk-estimator sk-toggleable\"><input class=\"sk-toggleable__control sk-hidden--visually\" id=\"sk-estimator-id-11\" type=\"checkbox\" checked><label for=\"sk-estimator-id-11\" class=\"sk-toggleable__label sk-toggleable__label-arrow\">MultinomialNB</label><div class=\"sk-toggleable__content\"><pre>MultinomialNB()</pre></div></div></div></div></div>"
      ],
      "text/plain": [
       "MultinomialNB()"
      ]
     },
     "execution_count": 224,
     "metadata": {},
     "output_type": "execute_result"
    }
   ],
   "source": [
    "model = MultinomialNB() # I'm pressed for time, so let's use something simple.\n",
    "model.fit(x, y)"
   ]
  },
  {
   "cell_type": "code",
   "execution_count": 225,
   "metadata": {},
   "outputs": [
    {
     "name": "stderr",
     "output_type": "stream",
     "text": [
      "100%|██████████| 17580/17580 [13:30<00:00, 21.68it/s]   \n"
     ]
    }
   ],
   "source": [
    "# let's try this thing out. Read test data into datframe, pass it into preprocessing pipeline.\n",
    "df_test = pd.read_csv('test.csv')\n",
    "x_test=preprocessing_pipeline.transform(df_test['TEXT'].astype(str)) \n"
   ]
  },
  {
   "cell_type": "code",
   "execution_count": 226,
   "metadata": {},
   "outputs": [],
   "source": [
    "pred = model.predict(x_test)\n",
    "\n",
    "assert len(pred) == len(df_test)\n",
    "data = {\n",
    "    'ID': df_test['ID'],\n",
    "    'LABEL': pred\n",
    "}\n",
    "df_result = pd.DataFrame(data=data)\n",
    "df.to_csv('submission.csv', index=False) # making the submission file"
   ]
  },
  {
   "cell_type": "code",
   "execution_count": 227,
   "metadata": {},
   "outputs": [
    {
     "data": {
      "text/plain": [
       "0.9127986348122867"
      ]
     },
     "execution_count": 227,
     "metadata": {},
     "output_type": "execute_result"
    }
   ],
   "source": [
    "# compare results to solution file\n",
    "df_gold = pd.read_csv('solution.csv')\n",
    "(df_gold['LABEL'] == df_result['LABEL']).astype(int).mean() # mean accuracy"
   ]
  },
  {
   "cell_type": "code",
   "execution_count": 228,
   "metadata": {},
   "outputs": [
    {
     "data": {
      "text/plain": [
       "array([[7732,  212,  184],\n",
       "       [ 190, 4075,  538],\n",
       "       [  53,  356, 4240]])"
      ]
     },
     "execution_count": 228,
     "metadata": {},
     "output_type": "execute_result"
    }
   ],
   "source": [
    "from sklearn.metrics import confusion_matrix\n",
    "confusion_matrix(df_gold['LABEL'], df['LABEL'])"
   ]
  },
  {
   "cell_type": "code",
   "execution_count": 229,
   "metadata": {},
   "outputs": [
    {
     "name": "stdout",
     "output_type": "stream",
     "text": [
      "Weighted\n",
      "F1: 0.9130491924253523\n",
      "Precision: 0.9140106845361778\n",
      "Accuracy: 0.9127986348122867\n",
      "\n",
      "Macro\n",
      "F1: 0.9018131201839136\n",
      "Precision: 0.9005630795842544\n",
      "Accuracy: 0.9127986348122867\n",
      "\n",
      "Micro\n",
      "F1: 0.9127986348122867\n",
      "Precision: 0.9127986348122867\n",
      "Accuracy: 0.9127986348122867\n",
      "\n",
      "F1 Meta: 0.9092203158071842\n",
      "Precision Meta: 0.9091241329775729\n"
     ]
    }
   ],
   "source": [
    "from sklearn.metrics import f1_score, precision_score, accuracy_score\n",
    "f1_w = f1_score(df_gold['LABEL'], df['LABEL'], average='weighted')\n",
    "p_score_w = precision_score(df_gold['LABEL'], df['LABEL'], average='weighted')\n",
    "a_score = accuracy_score(df_gold['LABEL'], df['LABEL'])\n",
    "\n",
    "f1_m = f1_score(df_gold['LABEL'], df['LABEL'], average='macro')\n",
    "p_score_m = precision_score(df_gold['LABEL'], df['LABEL'], average='macro')\n",
    "\n",
    "f1_mi = f1_score(df_gold['LABEL'], df['LABEL'], average='micro')\n",
    "p_score_mi = precision_score(df_gold['LABEL'], df['LABEL'], average='micro')\n",
    "\n",
    "f1_avg_meta = mean([f1_w,f1_m,f1_mi])\n",
    "p_score_avg_meta = mean([p_score_w,p_score_m,p_score_mi])\n",
    "\n",
    "\n",
    "print(f\"Weighted\\nF1: {f1_w}\\nPrecision: {p_score_w}\\nAccuracy: {a_score}\\n\\nMacro\\nF1: {f1_m}\\nPrecision: {p_score_m}\\nAccuracy: {a_score}\\n\\nMicro\\nF1: {f1_mi}\\nPrecision: {p_score_mi}\\nAccuracy: {a_score}\\n\\nF1 Meta: {f1_avg_meta}\\nPrecision Meta: {p_score_avg_meta}\")"
   ]
  },
  {
   "cell_type": "code",
   "execution_count": 230,
   "metadata": {},
   "outputs": [
    {
     "data": {
      "text/plain": [
       "'\\n4-grams\\n\\nWeighted\\nF1: 0.9142707753902352\\nPrecision: 0.9148633956771518\\nAccuracy: 0.9142207053469852\\n\\nMacro\\nF1: 0.9029814288808939\\nPrecision: 0.9025071115573824\\nAccuracy: 0.9142207053469852\\n\\nMicro\\nF1: 0.9142207053469852\\nPrecision: 0.9142207053469852\\nAccuracy: 0.9142207053469852\\n\\nF1 Meta: 0.9104909698727047\\nPrecision Meta: 0.9105304041938398\\n'"
      ]
     },
     "execution_count": 230,
     "metadata": {},
     "output_type": "execute_result"
    }
   ],
   "source": [
    "'''\n",
    "4-grams\n",
    "\n",
    "Weighted\n",
    "F1: 0.9142707753902352\n",
    "Precision: 0.9148633956771518\n",
    "Accuracy: 0.9142207053469852\n",
    "\n",
    "Macro\n",
    "F1: 0.9029814288808939\n",
    "Precision: 0.9025071115573824\n",
    "Accuracy: 0.9142207053469852\n",
    "\n",
    "Micro\n",
    "F1: 0.9142207053469852\n",
    "Precision: 0.9142207053469852\n",
    "Accuracy: 0.9142207053469852\n",
    "\n",
    "F1 Meta: 0.9104909698727047\n",
    "Precision Meta: 0.9105304041938398\n",
    "'''"
   ]
  },
  {
   "cell_type": "code",
   "execution_count": null,
   "metadata": {},
   "outputs": [],
   "source": []
  }
 ],
 "metadata": {
  "kernelspec": {
   "display_name": "Python 3",
   "language": "python",
   "name": "python3"
  },
  "language_info": {
   "codemirror_mode": {
    "name": "ipython",
    "version": 3
   },
   "file_extension": ".py",
   "mimetype": "text/x-python",
   "name": "python",
   "nbconvert_exporter": "python",
   "pygments_lexer": "ipython3",
   "version": "3.11.0"
  },
  "orig_nbformat": 4
 },
 "nbformat": 4,
 "nbformat_minor": 2
}
